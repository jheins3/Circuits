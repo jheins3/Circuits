{
 "cells": [
  {
   "cell_type": "code",
   "execution_count": 2,
   "metadata": {},
   "outputs": [
    {
     "name": "stdout",
     "output_type": "stream",
     "text": [
      "do nothing for now\n"
     ]
    }
   ],
   "source": [
    "# -*- coding: utf-8 -*-\n",
    "\"\"\"\n",
    "Created on Tue Jul 14 21:12:31 2020\n",
    "\n",
    "@author: jheins\n",
    "\"\"\"\n",
    "import math\n",
    "#import cmath\n",
    "\n",
    "def phasor(real, cmplx):\n",
    "    magnitude = math.sqrt((real**2) + (cmplx**2))\n",
    "    \n",
    "    if real == 0 and cmplx > 0:\n",
    "        angle = 90\n",
    "    elif real == 0 and cmplx < 0:\n",
    "        angle = -90\n",
    "    else:\n",
    "        angle = math.degrees(math.atan((cmplx/real)))\n",
    "        \n",
    "    return magnitude, angle\n",
    "\n",
    "def phasorToComplex(magnitude,angle):\n",
    "    real = magnitude * math.cos(math.radians(angle))\n",
    "    imaginery = magnitude * math.sin(math.radians(angle))\n",
    "    return complex(real, imaginery)\n",
    "\n",
    "def omega(frequency):\n",
    "    return 2 * math.pi * frequency\n",
    "\n",
    "def Z_Capacitance(omega, capacitance):\n",
    "    return (-1/(complex(0,(omega*capacitance)))).conjugate()\n",
    "\n",
    "def Z_Inductance(omega, inductance):\n",
    "    return complex(0,omega*inductance)\n",
    "\n",
    "if __name__ == '__main__':\n",
    "    print('do nothing for now')\n",
    "    "
   ]
  },
  {
   "cell_type": "code",
   "execution_count": null,
   "metadata": {},
   "outputs": [],
   "source": []
  }
 ],
 "metadata": {
  "kernelspec": {
   "display_name": "Python 3",
   "language": "python",
   "name": "python3"
  },
  "language_info": {
   "codemirror_mode": {
    "name": "ipython",
    "version": 3
   },
   "file_extension": ".py",
   "mimetype": "text/x-python",
   "name": "python",
   "nbconvert_exporter": "python",
   "pygments_lexer": "ipython3",
   "version": "3.7.7"
  }
 },
 "nbformat": 4,
 "nbformat_minor": 4
}
