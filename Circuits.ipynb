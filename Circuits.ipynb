{
 "cells": [
  {
   "cell_type": "code",
   "execution_count": 2,
   "metadata": {},
   "outputs": [
    {
     "name": "stdout",
     "output_type": "stream",
     "text": [
      "7.5398223686155035j\n",
      "(-0+5.326470652339202e-06j)\n"
     ]
    }
   ],
   "source": [
    "# -*- coding: utf-8 -*-\n",
    "\"\"\"\n",
    "Created on Tue Jul 14 21:12:31 2020\n",
    "\n",
    "@author: jheins\n",
    "\"\"\"\n",
    "import math\n",
    "#import cmath\n",
    "\n",
    "def phasor(real, cmplx):\n",
    "    magnitude = math.sqrt((real**2) + (cmplx**2))\n",
    "    \n",
    "    if real == 0 and cmplx > 0:\n",
    "        angle = 90\n",
    "    elif real == 0 and cmplx < 0:\n",
    "        angle = -90\n",
    "    else:\n",
    "        angle = math.degrees(math.atan((cmplx/real)))\n",
    "        \n",
    "    return magnitude, angle\n",
    "\n",
    "def phasorToComplex(magnitude,angle):\n",
    "    real = magnitude * math.cos(math.radians(angle))\n",
    "    imaginery = magnitude * math.sin(math.radians(angle))\n",
    "    return complex(real, imaginery)\n",
    "\n",
    "def omega(frequency):\n",
    "    return 2 * math.pi * frequency\n",
    "\n",
    "def Z_Capacitance(omega, capacitance):\n",
    "    return (-1/(complex(0,(omega*capacitance)))).conjugate()\n",
    "\n",
    "def Z_Inductance(omega, inductance):\n",
    "    return complex(0,omega*inductance)\n",
    "\n",
    "if __name__ == '__main__':\n",
    "\n",
    "    w = omega(60)\n",
    "    print(Z_Inductance(w, .02))\n",
    "    print(Z_Capacitance(w, (50*10^-6)))"
   ]
  },
  {
   "cell_type": "code",
   "execution_count": 3,
   "metadata": {},
   "outputs": [
    {
     "data": {
      "text/plain": [
       "(8.246211251235321, -14.036243467926479)"
      ]
     },
     "execution_count": 3,
     "metadata": {},
     "output_type": "execute_result"
    }
   ],
   "source": [
    "phasor(8, -2)"
   ]
  },
  {
   "cell_type": "code",
   "execution_count": 4,
   "metadata": {},
   "outputs": [
    {
     "data": {
      "text/plain": [
       "(1.4142135623730951, -45.0)"
      ]
     },
     "execution_count": 4,
     "metadata": {},
     "output_type": "execute_result"
    }
   ],
   "source": [
    "phasor(1,-1)"
   ]
  },
  {
   "cell_type": "code",
   "execution_count": 5,
   "metadata": {},
   "outputs": [
    {
     "data": {
      "text/plain": [
       "2.828"
      ]
     },
     "execution_count": 5,
     "metadata": {},
     "output_type": "execute_result"
    }
   ],
   "source": [
    "2*1.414"
   ]
  },
  {
   "cell_type": "code",
   "execution_count": 8,
   "metadata": {},
   "outputs": [
    {
     "data": {
      "text/plain": [
       "1.372"
      ]
     },
     "execution_count": 8,
     "metadata": {},
     "output_type": "execute_result"
    }
   ],
   "source": [
    "4*.343"
   ]
  }
 ],
 "metadata": {
  "kernelspec": {
   "display_name": "Python 3",
   "language": "python",
   "name": "python3"
  },
  "language_info": {
   "codemirror_mode": {
    "name": "ipython",
    "version": 3
   },
   "file_extension": ".py",
   "mimetype": "text/x-python",
   "name": "python",
   "nbconvert_exporter": "python",
   "pygments_lexer": "ipython3",
   "version": "3.7.6"
  }
 },
 "nbformat": 4,
 "nbformat_minor": 4
}
